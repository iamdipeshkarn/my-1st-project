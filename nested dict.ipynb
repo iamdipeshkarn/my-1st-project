{
 "cells": [
  {
   "cell_type": "code",
   "execution_count": 24,
   "metadata": {},
   "outputs": [
    {
     "name": "stdout",
     "output_type": "stream",
     "text": [
      "broadway-Trinity-sudan\n"
     ]
    }
   ],
   "source": [
    "#Broadway-Trinity-Sudan\n",
    "a ={\n",
    "    \"name\":\"broadway\",\n",
    "    \"address\":\"Dang\"\n",
    "}\n",
    "b = {\n",
    "    \"name\":\"sudan\",\n",
    "    \"school\":{\n",
    "        \"name\":\"Trinity\",\n",
    "        \"address\":a\n",
    "    }\n",
    "}\n",
    "c = (b[\"school\"][\"address\"]['name'])\n",
    "d = (b[\"school\"][\"name\"])\n",
    "e = (b[\"name\"])\n",
    "result = f\"{c}-{d}-{e}\"\n",
    "print(result)\n"
   ]
  },
  {
   "cell_type": "code",
   "execution_count": 27,
   "metadata": {},
   "outputs": [
    {
     "name": "stdout",
     "output_type": "stream",
     "text": [
      "pokhara\n",
      "NA\n"
     ]
    }
   ],
   "source": [
    "a = {\n",
    "    \"city\":\"pokhara\"\n",
    "}\n",
    "print(a.get(\"city\",\"NA\"))\n",
    "print(a.get(\"city1\",\"NA\"))\n",
    "\n"
   ]
  },
  {
   "cell_type": "code",
   "execution_count": 34,
   "metadata": {},
   "outputs": [
    {
     "name": "stdout",
     "output_type": "stream",
     "text": [
      "7\n"
     ]
    }
   ],
   "source": [
    "a = 5\n",
    "a ^= 2\n",
    "print(a)\n",
    "\n"
   ]
  },
  {
   "cell_type": "code",
   "execution_count": 6,
   "metadata": {},
   "outputs": [
    {
     "name": "stdout",
     "output_type": "stream",
     "text": [
      "-11\n"
     ]
    }
   ],
   "source": [
    "print(~10)"
   ]
  },
  {
   "cell_type": "code",
   "execution_count": 3,
   "metadata": {},
   "outputs": [
    {
     "name": "stdout",
     "output_type": "stream",
     "text": [
      "4 is greater than 2\n",
      "output the if condition\n"
     ]
    }
   ],
   "source": [
    "a = input()\n",
    "b = input()\n",
    "if (a>b):\n",
    "    print(f'{a} is greater than {b}')\n",
    "else:\n",
    "    print(f'{a} is less than {b}')\n",
    "print(\"output the if condition\") \n",
    "   \n",
    "\n",
    "    "
   ]
  },
  {
   "cell_type": "code",
   "execution_count": null,
   "metadata": {},
   "outputs": [],
   "source": [
    "if (condition):\n",
    "    print(\"if blocks\")\n",
    "elif('conditions'):\n",
    "    print(\"else if blocks\")\n",
    "elif(\"condition\"):\n",
    "    print(\"else if blocks\")\n",
    "else:\n",
    "    print(\"else blocks\")        \n"
   ]
  },
  {
   "cell_type": "code",
   "execution_count": 4,
   "metadata": {},
   "outputs": [
    {
     "name": "stdout",
     "output_type": "stream",
     "text": [
      "4 is not greater than 5\n"
     ]
    }
   ],
   "source": [
    "a = input()\n",
    "b = input()\n",
    "if(a==b):\n",
    "    print(f'{a} is equal to {b}')\n",
    "elif(a>=b):\n",
    "    print(f'{a} is greater than or eqaul than {b}')\n",
    "else:\n",
    "    print(f'{a} is not greater than {b}')\n",
    "    \n"
   ]
  },
  {
   "cell_type": "code",
   "execution_count": 1,
   "metadata": {},
   "outputs": [
    {
     "name": "stdout",
     "output_type": "stream",
     "text": [
      "second division\n"
     ]
    }
   ],
   "source": [
    "#nested if conditions\n",
    "total_marks = 453\n",
    "percentage = int(total_marks/8)\n",
    "if(percentage>=80):\n",
    "    print(\"Distinction\")\n",
    "elif(percentage>=60 and percentage<80):\n",
    "    print(\"first division\")\n",
    "elif(percentage>=55 and percentage<60):\n",
    "    print(\"second division\")\n",
    "else:\n",
    "    print(\"fail\")            \n",
    "\n",
    "total_marks = 500\n",
    "percentage = int(total_marks/8)\n",
    "if(percentage)\n",
    "    \n"
   ]
  },
  {
   "cell_type": "code",
   "execution_count": 3,
   "metadata": {},
   "outputs": [
    {
     "name": "stdout",
     "output_type": "stream",
     "text": [
      "a\n",
      "b\n"
     ]
    }
   ],
   "source": [
    "if (2==2):\n",
    "    print(\"a\")\n",
    "\n",
    "    \n",
    "else:\n",
    "    print(\"b\")\n",
    "data = \"a\" if 2==3 else \"b\"\n",
    "print(data)       "
   ]
  },
  {
   "cell_type": "code",
   "execution_count": 4,
   "metadata": {},
   "outputs": [
    {
     "name": "stdout",
     "output_type": "stream",
     "text": [
      "SuDanSuDan\n",
      "sudan\n",
      "Sudan\n",
      "True\n",
      "valid first name\n"
     ]
    }
   ],
   "source": [
    "a = \"SuDan\"\n",
    "print(a*2)\n",
    "print(a.lower())\n",
    "print(a.title())\n",
    "print(a.isalpha())\n",
    "first_name = \"sudan\"\n",
    "if first_name.isalpha():\n",
    "    print(\"valid first name\")\n",
    "\n",
    "    "
   ]
  },
  {
   "cell_type": "code",
   "execution_count": 8,
   "metadata": {},
   "outputs": [
    {
     "name": "stdout",
     "output_type": "stream",
     "text": [
      "5\n",
      "3\n",
      "5\n"
     ]
    }
   ],
   "source": [
    "a = (1,2,3,4,5)\n",
    "print(len(a))\n",
    "print(a[2])\n",
    "print(a[-1])"
   ]
  },
  {
   "cell_type": "code",
   "execution_count": 12,
   "metadata": {},
   "outputs": [
    {
     "name": "stdout",
     "output_type": "stream",
     "text": [
      "<class 'tuple'>\n",
      "3\n"
     ]
    },
    {
     "ename": "AttributeError",
     "evalue": "'tuple' object has no attribute 'pop'",
     "output_type": "error",
     "traceback": [
      "\u001b[1;31m---------------------------------------------------------------------------\u001b[0m",
      "\u001b[1;31mAttributeError\u001b[0m                            Traceback (most recent call last)",
      "Cell \u001b[1;32mIn[12], line 7\u001b[0m\n\u001b[0;32m      4\u001b[0m \u001b[38;5;28mprint\u001b[39m(\u001b[38;5;28mtype\u001b[39m(a))\n\u001b[0;32m      5\u001b[0m \u001b[38;5;28mprint\u001b[39m(a\u001b[38;5;241m.\u001b[39mindex(\u001b[38;5;241m4\u001b[39m))\n\u001b[1;32m----> 7\u001b[0m \u001b[43ma\u001b[49m\u001b[38;5;241;43m.\u001b[39;49m\u001b[43mpop\u001b[49m()\n\u001b[0;32m      8\u001b[0m b \u001b[38;5;241m=\u001b[39m \u001b[38;5;28mlist\u001b[39m(a)\n\u001b[0;32m      9\u001b[0m \u001b[38;5;28mprint\u001b[39m(\u001b[38;5;28mtype\u001b[39m(b))\n",
      "\u001b[1;31mAttributeError\u001b[0m: 'tuple' object has no attribute 'pop'"
     ]
    }
   ],
   "source": [
    "tuple\n",
    "()\n",
    "a = (1,2,3,4,5)\n",
    "print(type(a))\n",
    "print(a.index(4))\n",
    "\n",
    "a.pop()\n",
    "b = list(a)\n",
    "print(type(b))\n",
    "b.pop()\n",
    "print(b)\n",
    "b.pop(3)\n",
    "print(b)"
   ]
  }
 ],
 "metadata": {
  "kernelspec": {
   "display_name": "textenv",
   "language": "python",
   "name": "python3"
  },
  "language_info": {
   "codemirror_mode": {
    "name": "ipython",
    "version": 3
   },
   "file_extension": ".py",
   "mimetype": "text/x-python",
   "name": "python",
   "nbconvert_exporter": "python",
   "pygments_lexer": "ipython3",
   "version": "3.12.2"
  }
 },
 "nbformat": 4,
 "nbformat_minor": 2
}
