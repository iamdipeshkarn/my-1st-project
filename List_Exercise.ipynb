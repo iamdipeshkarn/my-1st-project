{
 "cells": [
  {
   "cell_type": "code",
   "execution_count": null,
   "metadata": {},
   "outputs": [],
   "source": [
    "#python program to interchange first and last elements in a list\n",
    "#write a programn to swap first and last element of the list.\n",
    "#Input : [12, 35, 9, 56, 24]\n",
    "#Output : [24, 35, 9, 56, 12]\n",
    "\n",
    "#Input : [1, 2, 3]\n",
    "#Output : [3, 2, 1]\n"
   ]
  }
 ],
 "metadata": {
  "language_info": {
   "name": "python"
  }
 },
 "nbformat": 4,
 "nbformat_minor": 2
}
