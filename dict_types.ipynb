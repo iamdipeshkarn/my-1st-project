{
 "cells": [
  {
   "cell_type": "code",
   "execution_count": 8,
   "metadata": {},
   "outputs": [
    {
     "data": {
      "text/plain": [
       "dict_keys(['name', 'address', 'number'])"
      ]
     },
     "execution_count": 8,
     "metadata": {},
     "output_type": "execute_result"
    }
   ],
   "source": [
    "a ={\n",
    "    \"name\":\"sudan\",\n",
    "    \"address\":\"ghorahi\",\n",
    "    \"number\":9845827126\n",
    "}\n",
    "#a =[\"sudan\",\"ghorahi\",\"98\"]\n",
    "a.values()\n",
    "a.keys()"
   ]
  },
  {
   "cell_type": "code",
   "execution_count": 19,
   "metadata": {},
   "outputs": [
    {
     "name": "stdout",
     "output_type": "stream",
     "text": [
      "3\n"
     ]
    }
   ],
   "source": [
    "a ={\n",
    "    \"name\":[1,2,3,4,5],\n",
    "    \"address\":2.5\n",
    "}\n",
    "b = a['name']\n",
    "print(b[2])\n",
    "\n",
    "\n",
    "\n",
    "\n"
   ]
  },
  {
   "cell_type": "code",
   "execution_count": 23,
   "metadata": {},
   "outputs": [
    {
     "name": "stdout",
     "output_type": "stream",
     "text": [
      "{'name': 'sudan', 'address': 'ghorahi', 'number': 9800000}\n"
     ]
    },
    {
     "data": {
      "text/plain": [
       "dict_items([('name', 'sudan'), ('address', 'ghorahi'), ('number', 9800000)])"
      ]
     },
     "execution_count": 23,
     "metadata": {},
     "output_type": "execute_result"
    }
   ],
   "source": [
    "a = {\n",
    "    \"name\":\"sudan\",\n",
    "    \"address\":\"ghorahi\",\n",
    "    \"number\":9800000\n",
    "\n",
    "}\n",
    "print(a)\n",
    "a.items()\n"
   ]
  },
  {
   "cell_type": "code",
   "execution_count": 24,
   "metadata": {},
   "outputs": [
    {
     "name": "stdout",
     "output_type": "stream",
     "text": [
      "{'name': 'dipesh', 'address': 'kathmandu', 'number': '99999', 'age': 27}\n"
     ]
    }
   ],
   "source": [
    "a = {\n",
    "    \"name\":\"dipesh\",\n",
    "    \"address\":\"kathmandu\",\n",
    "    \"number\":\"99999\"\n",
    "}\n",
    "#output\n",
    "#a = {\n",
    "#    \"name\":\"dipesh\",\n",
    " #   \"address\":\"kathmandu\",\n",
    "  # \"age\":27\n",
    "#}\n",
    "a['age']=27\n",
    "print(a)\n"
   ]
  },
  {
   "cell_type": "code",
   "execution_count": 27,
   "metadata": {},
   "outputs": [
    {
     "data": {
      "text/plain": [
       "{'name': 'dipesh',\n",
       " 'address': 'kathmandu',\n",
       " 'number': '9999',\n",
       " 'list': [1, 2, 3, 4, 5]}"
      ]
     },
     "execution_count": 27,
     "metadata": {},
     "output_type": "execute_result"
    }
   ],
   "source": [
    "a = {\n",
    "    \"name\":\"dipesh\",\n",
    "    \"address\":\"kathmandu\",\n",
    "    \"number\":\"9999\"\n",
    "\n",
    "}\n",
    "a['list']=[1,2,3,4,5]\n",
    "a\n"
   ]
  },
  {
   "cell_type": "code",
   "execution_count": null,
   "metadata": {},
   "outputs": [],
   "source": [
    "#input 3 value from user\n",
    "#insert data in dict\n",
    "#make 3 keys[city,temp,user]\n",
    "#output\n",
    "#hints:\n",
    "a{}\n",
    "keyadd and value should be enter feom user\n",
    "a{\n",
    "    \"city\":\"kathmandu\"\n",
    "    \"temp\":32\n",
    "    \"user\":\"sudan\"\n",
    "}"
   ]
  },
  {
   "cell_type": "code",
   "execution_count": 1,
   "metadata": {},
   "outputs": [
    {
     "name": "stdout",
     "output_type": "stream",
     "text": [
      "{'city': 'pokhara', 'temp': 32, 'user': 'suddan', 'test-key': 'testvalue'}\n",
      "{}\n"
     ]
    }
   ],
   "source": [
    "a ={\n",
    "    \"city\":\"kathmandu\",\n",
    "    \"temp\":32,\n",
    "    \"user\":\"suddan\"\n",
    "}\n",
    "a.update({\"test-key\":\"testvalue\"})\n",
    "a.update({\"city\":\"pokhara\"})\n",
    "print(a)\n",
    "a.pop(\"city\")\n",
    "a.clear()\n",
    "print(a)\n",
    "\n",
    "\n",
    "\n"
   ]
  },
  {
   "cell_type": "code",
   "execution_count": null,
   "metadata": {},
   "outputs": [],
   "source": []
  }
 ],
 "metadata": {
  "kernelspec": {
   "display_name": "textenv",
   "language": "python",
   "name": "python3"
  },
  "language_info": {
   "codemirror_mode": {
    "name": "ipython",
    "version": 3
   },
   "file_extension": ".py",
   "mimetype": "text/x-python",
   "name": "python",
   "nbconvert_exporter": "python",
   "pygments_lexer": "ipython3",
   "version": "3.12.2"
  }
 },
 "nbformat": 4,
 "nbformat_minor": 2
}
