{
 "cells": [
  {
   "cell_type": "code",
   "execution_count": 10,
   "metadata": {},
   "outputs": [
    {
     "name": "stdout",
     "output_type": "stream",
     "text": [
      "\n",
      "\tYou've only 7 chances to guess the integer!\n",
      "\n",
      "you guessed to small!\n",
      "you guessed too high!\n",
      "you guessed to small!\n",
      "you guessed to small!\n",
      "you guessed to small!\n",
      "you guessed to small!\n",
      "you guessed too high!\n",
      "\n",
      "The number is 72\n",
      "\tBetter luck Next time!\n"
     ]
    }
   ],
   "source": [
    "import random\n",
    "import math  \n",
    "\n",
    "#taking inputs\n",
    "lower = int(input(\"enter lower value:\"))  \n",
    "#taking inputs\n",
    "upper = int(input(\"enter upper value:\")) \n",
    "\n",
    "#generating ramdom number,\n",
    "#the lower and upper\n",
    "x = random.randint(lower,upper)    \n",
    "print(\"\\n\\tYou've only\", round(math.log(upper - lower + 1, 2)),\n",
    "      \"chances to guess the integer!\\n\")\n",
    "\n",
    "#lnitializating the number of guesses\n",
    "count = 0 \n",
    "\n",
    "#for calculation of minimum number of \n",
    "#guesses depends upon range\n",
    "while count < math.log(upper - lower + 1, 2):\n",
    "    count += 1\n",
    "    #taking number as a guess\n",
    "    guess = int(input(\"guess a number:\")) \n",
    "    if x == guess: #condition testing\n",
    "        print (\"congratulations you did it in\", count, \"try\") #\n",
    "        #once guessed loop will break\n",
    "        break \n",
    "    elif x > guess:\n",
    "        print(\"you guessed to small!\")\n",
    "    elif x < guess:\n",
    "        print(\"you guessed too high!\")\n",
    "\n",
    "#if guessing is more than required guesses\n",
    "#shows this output        \n",
    "                \n",
    "if count >= math.log(upper - lower + 1, 2):\n",
    "    print(\"\\nThe number is %d\" % x)\n",
    "    print(\"\\tBetter luck Next time!\")\n",
    "\n",
    "\n",
    "\n",
    "\n",
    "\n",
    "\n",
    "\n",
    "\n",
    "\n",
    "\n",
    "\n",
    "\n",
    "\n",
    "\n",
    "\n"
   ]
  }
 ],
 "metadata": {
  "kernelspec": {
   "display_name": "textenv",
   "language": "python",
   "name": "python3"
  },
  "language_info": {
   "codemirror_mode": {
    "name": "ipython",
    "version": 3
   },
   "file_extension": ".py",
   "mimetype": "text/x-python",
   "name": "python",
   "nbconvert_exporter": "python",
   "pygments_lexer": "ipython3",
   "version": "3.12.2"
  }
 },
 "nbformat": 4,
 "nbformat_minor": 2
}
